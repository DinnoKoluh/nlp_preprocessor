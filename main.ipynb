{
 "cells": [
  {
   "cell_type": "code",
   "execution_count": 1,
   "metadata": {},
   "outputs": [],
   "source": [
    "%load_ext autoreload\n",
    "%autoreload 2\n",
    "from funs import *\n",
    "from NLP import *"
   ]
  },
  {
   "cell_type": "code",
   "execution_count": 75,
   "metadata": {},
   "outputs": [
    {
     "name": "stdout",
     "output_type": "stream",
     "text": [
      "0\n",
      "{'b': 3, 'a': 2, 'c': 1}\n"
     ]
    }
   ],
   "source": [
    "a = ['a', 'b', 'c', 'a', 'b', 'b']\n",
    "print(name.count('a'))\n",
    "voc = {}\n",
    "for x in a:\n",
    "    if not(x in voc.keys()): \n",
    "        voc[x] = a.count(x)\n",
    "voc = dict(sorted(voc.items(), key=lambda x: x[1], reverse=True))\n",
    "print(voc)"
   ]
  },
  {
   "cell_type": "markdown",
   "metadata": {},
   "source": [
    "Tokenizer"
   ]
  },
  {
   "cell_type": "code",
   "execution_count": 9,
   "metadata": {},
   "outputs": [
    {
     "name": "stdout",
     "output_type": "stream",
     "text": [
      "['This', 'dataset', 'was', 'collected', 'and', 'prepared', 'by', 'Mr.', 'Dinno', 'the', 'CALO', 'Project', '(', 'A', 'Cognitive', 'Assistant', 'that', 'Learns', 'and', 'Organizes', ')', '.', 'It', 'contains', 'data', 'from', 'about', '150', 'users', ',', 'mostly', 'senior', 'management', 'of', 'Enron', ',', 'organized', 'into', 'folders', '.', 'The', 'corpus', 'contains', 'a', 'total', 'of', 'about', '0.5M', 'messages', '.', 'This', 'data', 'was', 'originally', 'made', 'public', ',', 'and', 'posted', 'to', 'the', 'web', ',', 'by', 'the', 'Federal', 'Energy', 'Regulatory', 'Commission', 'during', 'its', 'investigation', '?', 'The', 'email', 'dataset', 'was', 'later', 'purchased', 'by', 'Leslie', 'Kaelbling', 'at', 'MIT', ',', 'and', 'turned', 'out', 'to', 'have', 'a', 'number', 'of', 'integrity', 'problems', '.', 'A', 'number', 'of', 'folks', 'at', 'SRI', ',', 'notably', 'Melinda', 'Gervasio', ',', 'worked', 'hard', 'to', 'correct', 'these', 'problems', ',', 'and', 'it', 'is', 'thanks', 'to', 'them', '(', 'not', 'me', ')', 'that', 'the', 'dataset', 'is', 'available', '.', 'The', 'dataset', 'here', 'does', 'not', 'include', 'attachments', ',', 'and', 'some', 'messages', 'have', 'been', 'deleted', '\"', 'as', 'part', 'of', 'a', 'redaction', 'effort', 'due', 'to', 'requests', 'from', 'affected', 'employees', '\"', '.', 'Invalid', 'email', 'addresses', 'were', 'converted', 'to', 'something', 'of', 'the', 'form', 'user@enron.com.', ',', \"'\", 'whenever', 'possible', '(i.e.,', 'recipient', 'is', 'specified', 'in', 'some', 'parse-able', 'format', 'like', '\"', 'Doe', ',', 'John', '\"', 'or', '\"', 'Mary', 'K.', 'Smith', '\"', ')', 'and', 'to', 'no_address@enron.com', 'when', 'no', 'recipient', 'was', 'specified', '.', '.', '.', 'I', 'get', 'a', 'number', 'of', 'questions', 'about', 'this', 'corpus', 'each', 'week', ',', 'which', 'I', 'am', 'unable', 'to', 'answer', ',', 'mostly', 'because', 'they', 'deal', 'with', 'preparation', 'issues', 'and', 'such', 'that', 'I', 'just', \"don't\", 'know', 'about', '.', 'If', 'you', 'ask', 'me', 'a', 'question', 'and', 'I', \"don't\", 'answer', ',', 'please', \"'\", \"don't\", ',', \"don't\", '.', 'mindme', \"'\", 'feel', 'slighted', '.', '', 'This', 'dataset', 'was', 'collected', 'and', 'prepared', 'by', 'Mr.', 'Dinno', 'the', 'CALO', 'Project', '(', 'A', 'Cognitive', 'Assistant', 'that', 'Learns', 'and', 'Organizes', ')', '.', 'It', 'contains', 'data', 'from', 'about', '150', 'users', ',', 'mostly', 'senior', 'management', 'of', 'Enron', ',', 'organized', 'into', 'folders', '.', 'The', 'corpus', 'contains', 'a', 'total', 'of', 'about', '0.5M', 'messages', '.', 'This', 'data', 'was', 'originally', 'made', 'public', ',', 'and', 'posted', 'to', 'the', 'web', ',', 'by', 'the', 'Federal', 'Energy', 'Regulatory', 'Commission', 'during', 'its', 'investigation', '?', 'The', 'email', 'dataset', 'was', 'later', 'purchased', 'by', 'Leslie', 'Kaelbling', 'at', 'MIT', ',', 'and', 'turned', 'out', 'to', 'have', 'a', 'number', 'of', 'integrity', 'problems', '.', 'A', 'number', 'of', 'folks', 'at', 'SRI', ',', 'notably', 'Melinda', 'Gervasio', ',', 'worked', 'hard', 'to', 'correct', 'these', 'problems', ',', 'and', 'it', 'is', 'thanks', 'to', 'them', '(', 'not', 'me', ')', 'that', 'the', 'dataset', 'is', 'available', '.', 'The', 'dataset', 'here', 'does', 'not', 'include', 'attachments', ',', 'and', 'some', 'messages', 'have', 'been', 'deleted', '\"', 'as', 'part', 'of', 'a', 'redaction', 'effort', 'due', 'to', 'requests', 'from', 'affected', 'employees', '\"', '.', 'Invalid', 'email', 'addresses', 'were', 'converted', 'to', 'something', 'of', 'the', 'form', 'user@enron.com.', ',', \"'\", 'whenever', 'possible', '(i.e.,', 'recipient', 'is', 'specified', 'in', 'some', 'parse-able', 'format', 'like', '\"', 'Doe', ',', 'John', '\"', 'or', '\"', 'Mary', 'K.', 'Smith', '\"', ')', 'and', 'to', 'no_address@enron.com', 'when', 'no', 'recipient', 'was', 'specified', '.', '.', '.', 'I', 'get', 'a', 'number', 'of', 'questions', 'about', 'this', 'corpus', 'each', 'week', ',', 'which', 'I', 'am', 'unable', 'to', 'answer', ',', 'mostly', 'because', 'they', 'deal', 'with', 'preparation', 'issues', 'and', 'such', 'that', 'I', 'just', \"don't\", 'know', 'about', '.', 'If', 'you', 'ask', 'me', 'a', 'question', 'and', 'I', \"don't\", 'answer', ',', 'please', \"'\", \"don't\", ',', \"don't\", '.', 'mindme', \"'\", 'feel', 'slighted', '.', '', 'This', 'dataset', 'was', 'collected', 'and', 'prepared', 'by', 'Mr.', 'Dinno', 'the', 'CALO', 'Project', '(', 'A', 'Cognitive', 'Assistant', 'that', 'Learns', 'and', 'Organizes', ')', '.', 'It', 'contains', 'data', 'from', 'about', '150', 'users', ',', 'mostly', 'senior', 'management', 'of', 'Enron', ',', 'organized', 'into', 'folders', '.', 'The', 'corpus', 'contains', 'a', 'total', 'of', 'about', '0.5M', 'messages', '.', 'This', 'data', 'was', 'originally', 'made', 'public', ',', 'and', 'posted', 'to', 'the', 'web', ',', 'by', 'the', 'Federal', 'Energy', 'Regulatory', 'Commission', 'during', 'its', 'investigation', '?', 'The', 'email', 'dataset', 'was', 'later', 'purchased', 'by', 'Leslie', 'Kaelbling', 'at', 'MIT', ',', 'and', 'turned', 'out', 'to', 'have', 'a', 'number', 'of', 'integrity', 'problems', '.', 'A', 'number', 'of', 'folks', 'at', 'SRI', ',', 'notably', 'Melinda', 'Gervasio', ',', 'worked', 'hard', 'to', 'correct', 'these', 'problems', ',', 'and', 'it', 'is', 'thanks', 'to', 'them', '(', 'not', 'me', ')', 'that', 'the', 'dataset', 'is', 'available', '.', 'The', 'dataset', 'here', 'does', 'not', 'include', 'attachments', ',', 'and', 'some', 'messages', 'have', 'been', 'deleted', '\"', 'as', 'part', 'of', 'a', 'redaction', 'effort', 'due', 'to', 'requests', 'from', 'affected', 'employees', '\"', '.', 'Invalid', 'email', 'addresses', 'were', 'converted', 'to', 'something', 'of', 'the', 'form', 'user@enron.com.', ',', \"'\", 'whenever', 'possible', '(i.e.,', 'recipient', 'is', 'specified', 'in', 'some', 'parse-able', 'format', 'like', '\"', 'Doe', ',', 'John', '\"', 'or', '\"', 'Mary', 'K.', 'Smith', '\"', ')', 'and', 'to', 'no_address@enron.com', 'when', 'no', 'recipient', 'was', 'specified', '.', '.', '.', 'I', 'get', 'a', 'number', 'of', 'questions', 'about', 'this', 'corpus', 'each', 'week', ',', 'which', 'I', 'am', 'unable', 'to', 'answer', ',', 'mostly', 'because', 'they', 'deal', 'with', 'preparation', 'issues', 'and', 'such', 'that', 'I', 'just', \"don't\", 'know', 'about', '.', 'If', 'you', 'ask', 'me', 'a', 'question', 'and', 'I', \"don't\", 'answer', ',', 'please', \"'\", \"don't\", ',', \"don't\", '.', 'mindme', \"'\", 'feel', 'slighted', '.', '', 'This', 'dataset', 'was', 'collected', 'and', 'prepared', 'by', 'Mr.', 'Dinno', 'the', 'CALO', 'Project', '(', 'A', 'Cognitive', 'Assistant', 'that', 'Learns', 'and', 'Organizes', ')', '.', 'It', 'contains', 'data', 'from', 'about', '150', 'users', ',', 'mostly', 'senior', 'management', 'of', 'Enron', ',', 'organized', 'into', 'folders', '.', 'The', 'corpus', 'contains', 'a', 'total', 'of', 'about', '0.5M', 'messages', '.', 'This', 'data', 'was', 'originally', 'made', 'public', ',', 'and', 'posted', 'to', 'the', 'web', ',', 'by', 'the', 'Federal', 'Energy', 'Regulatory', 'Commission', 'during', 'its', 'investigation', '?', 'The', 'email', 'dataset', 'was', 'later', 'purchased', 'by', 'Leslie', 'Kaelbling', 'at', 'MIT', ',', 'and', 'turned', 'out', 'to', 'have', 'a', 'number', 'of', 'integrity', 'problems', '.', 'A', 'number', 'of', 'folks', 'at', 'SRI', ',', 'notably', 'Melinda', 'Gervasio', ',', 'worked', 'hard', 'to', 'correct', 'these', 'problems', ',', 'and', 'it', 'is', 'thanks', 'to', 'them', '(', 'not', 'me', ')', 'that', 'the', 'dataset', 'is', 'available', '.', 'The', 'dataset', 'here', 'does', 'not', 'include', 'attachments', ',', 'and', 'some', 'messages', 'have', 'been', 'deleted', '\"', 'as', 'part', 'of', 'a', 'redaction', 'effort', 'due', 'to', 'requests', 'from', 'affected', 'employees', '\"', '.', 'Invalid', 'email', 'addresses', 'were', 'converted', 'to', 'something', 'of', 'the', 'form', 'user@enron.com.', ',', \"'\", 'whenever', 'possible', '(i.e.,', 'recipient', 'is', 'specified', 'in', 'some', 'parse-able', 'format', 'like', '\"', 'Doe', ',', 'John', '\"', 'or', '\"', 'Mary', 'K.', 'Smith', '\"', ')', 'and', 'to', 'no_address@enron.com', 'when', 'no', 'recipient', 'was', 'specified', '.', '.', '.', 'I', 'get', 'a', 'number', 'of', 'questions', 'about', 'this', 'corpus', 'each', 'week', ',', 'which', 'I', 'am', 'unable', 'to', 'answer', ',', 'mostly', 'because', 'they', 'deal', 'with', 'preparation', 'issues', 'and', 'such', 'that', 'I', 'just', \"don't\", 'know', 'about', '.', 'If', 'you', 'ask', 'me', 'a', 'question', 'and', 'I', \"don't\", 'answer', ',', 'please', \"'\", \"don't\", ',', \"don't\", '.', 'mindme', \"'\", 'feel', 'slighted', '.', '', 'This', 'dataset', 'was', 'collected', 'and', 'prepared', 'by', 'Mr.', 'Dinno', 'the', 'CALO', 'Project', '(', 'A', 'Cognitive', 'Assistant', 'that', 'Learns', 'and', 'Organizes', ')', '.', 'It', 'contains', 'data', 'from', 'about', '150', 'users', ',', 'mostly', 'senior', 'management', 'of', 'Enron', ',', 'organized', 'into', 'folders', '.', 'The', 'corpus', 'contains', 'a', 'total', 'of', 'about', '0.5M', 'messages', '.', 'This', 'data', 'was', 'originally', 'made', 'public', ',', 'and', 'posted', 'to', 'the', 'web', ',', 'by', 'the', 'Federal', 'Energy', 'Regulatory', 'Commission', 'during', 'its', 'investigation', '?', 'The', 'email', 'dataset', 'was', 'later', 'purchased', 'by', 'Leslie', 'Kaelbling', 'at', 'MIT', ',', 'and', 'turned', 'out', 'to', 'have', 'a', 'number', 'of', 'integrity', 'problems', '.', 'A', 'number', 'of', 'folks', 'at', 'SRI', ',', 'notably', 'Melinda', 'Gervasio', ',', 'worked', 'hard', 'to', 'correct', 'these', 'problems', ',', 'and', 'it', 'is', 'thanks', 'to', 'them', '(', 'not', 'me', ')', 'that', 'the', 'dataset', 'is', 'available', '.', 'The', 'dataset', 'here', 'does', 'not', 'include', 'attachments', ',', 'and', 'some', 'messages', 'have', 'been', 'deleted', '\"', 'as', 'part', 'of', 'a', 'redaction', 'effort', 'due', 'to', 'requests', 'from', 'affected', 'employees', '\"', '.', 'Invalid', 'email', 'addresses', 'were', 'converted', 'to', 'something', 'of', 'the', 'form', 'user@enron.com.', ',', \"'\", 'whenever', 'possible', '(i.e.,', 'recipient', 'is', 'specified', 'in', 'some', 'parse-able', 'format', 'like', '\"', 'Doe', ',', 'John', '\"', 'or', '\"', 'Mary', 'K.', 'Smith', '\"', ')', 'and', 'to', 'no_address@enron.com', 'when', 'no', 'recipient', 'was', 'specified', '.', '.', '.', 'I', 'get', 'a', 'number', 'of', 'questions', 'about', 'this', 'corpus', 'each', 'week', ',', 'which', 'I', 'am', 'unable', 'to', 'answer', ',', 'mostly', 'because', 'they', 'deal', 'with', 'preparation', 'issues', 'and', 'such', 'that', 'I', 'just', \"don't\", 'know', 'about', '.', 'If', 'you', 'ask', 'me', 'a', 'question', 'and', 'I', \"don't\", 'answer', ',', 'please', \"'\", \"don't\", ',', \"don't\", '.', 'mindme', \"'\", 'feel', 'slighted', '.', '', 'This', 'dataset', 'was', 'collected', 'and', 'prepared', 'by', 'Mr.', 'Dinno', 'the', 'CALO', 'Project', '(', 'A', 'Cognitive', 'Assistant', 'that', 'Learns', 'and', 'Organizes', ')', '.', 'It', 'contains', 'data', 'from', 'about', '150', 'users', ',', 'mostly', 'senior', 'management', 'of', 'Enron', ',', 'organized', 'into', 'folders', '.', 'The', 'corpus', 'contains', 'a', 'total', 'of', 'about', '0.5M', 'messages', '.', 'This', 'data', 'was', 'originally', 'made', 'public', ',', 'and', 'posted', 'to', 'the', 'web', ',', 'by', 'the', 'Federal', 'Energy', 'Regulatory', 'Commission', 'during', 'its', 'investigation', '?', 'The', 'email', 'dataset', 'was', 'later', 'purchased', 'by', 'Leslie', 'Kaelbling', 'at', 'MIT', ',', 'and', 'turned', 'out', 'to', 'have', 'a', 'number', 'of', 'integrity', 'problems', '.', 'A', 'number', 'of', 'folks', 'at', 'SRI', ',', 'notably', 'Melinda', 'Gervasio', ',', 'worked', 'hard', 'to', 'correct', 'these', 'problems', ',', 'and', 'it', 'is', 'thanks', 'to', 'them', '(', 'not', 'me', ')', 'that', 'the', 'dataset', 'is', 'available', '.', 'The', 'dataset', 'here', 'does', 'not', 'include', 'attachments', ',', 'and', 'some', 'messages', 'have', 'been', 'deleted', '\"', 'as', 'part', 'of', 'a', 'redaction', 'effort', 'due', 'to', 'requests', 'from', 'affected', 'employees', '\"', '.', 'Invalid', 'email', 'addresses', 'were', 'converted', 'to', 'something', 'of', 'the', 'form', 'user@enron.com.', ',', \"'\", 'whenever', 'possible', '(i.e.,', 'recipient', 'is', 'specified', 'in', 'some', 'parse-able', 'format', 'like', '\"', 'Doe', ',', 'John', '\"', 'or', '\"', 'Mary', 'K.', 'Smith', '\"', ')', 'and', 'to', 'no_address@enron.com', 'when', 'no', 'recipient', 'was', 'specified', '.', '.', '.', 'I', 'get', 'a', 'number', 'of', 'questions', 'about', 'this', 'corpus', 'each', 'week', ',', 'which', 'I', 'am', 'unable', 'to', 'answer', ',', 'mostly', 'because', 'they', 'deal', 'with', 'preparation', 'issues', 'and', 'such', 'that', 'I', 'just', \"don't\", 'know', 'about', '.', 'If', 'you', 'ask', 'me', 'a', 'question', 'and', 'I', \"don't\", 'answer', ',', 'please', \"'\", \"don't\", ',', \"don't\", '.', 'mindme', \"'\", 'feel', 'slighted', '.', '', 'This', 'dataset', 'was', 'collected', 'and', 'prepared', 'by', 'Mr.', 'Dinno', 'the', 'CALO', 'Project', '(', 'A', 'Cognitive', 'Assistant', 'that', 'Learns', 'and', 'Organizes', ')', '.', 'It', 'contains', 'data', 'from', 'about', '150', 'users', ',', 'mostly', 'senior', 'management', 'of', 'Enron', ',', 'organized', 'into', 'folders', '.', 'The', 'corpus', 'contains', 'a', 'total', 'of', 'about', '0.5M', 'messages', '.', 'This', 'data', 'was', 'originally', 'made', 'public', ',', 'and', 'posted', 'to', 'the', 'web', ',', 'by', 'the', 'Federal', 'Energy', 'Regulatory', 'Commission', 'during', 'its', 'investigation', '?', 'The', 'email', 'dataset', 'was', 'later', 'purchased', 'by', 'Leslie', 'Kaelbling', 'at', 'MIT', ',', 'and', 'turned', 'out', 'to', 'have', 'a', 'number', 'of', 'integrity', 'problems', '.', 'A', 'number', 'of', 'folks', 'at', 'SRI', ',', 'notably', 'Melinda', 'Gervasio', ',', 'worked', 'hard', 'to', 'correct', 'these', 'problems', ',', 'and', 'it', 'is', 'thanks', 'to', 'them', '(', 'not', 'me', ')', 'that', 'the', 'dataset', 'is', 'available', '.', 'The', 'dataset', 'here', 'does', 'not', 'include', 'attachments', ',', 'and', 'some', 'messages', 'have', 'been', 'deleted', '\"', 'as', 'part', 'of', 'a', 'redaction', 'effort', 'due', 'to', 'requests', 'from', 'affected', 'employees', '\"', '.', 'Invalid', 'email', 'addresses', 'were', 'converted', 'to', 'something', 'of', 'the', 'form', 'user@enron.com.', ',', \"'\", 'whenever', 'possible', '(i.e.,', 'recipient', 'is', 'specified', 'in', 'some', 'parse-able', 'format', 'like', '\"', 'Doe', ',', 'John', '\"', 'or', '\"', 'Mary', 'K.', 'Smith', '\"', ')', 'and', 'to', 'no_address@enron.com', 'when', 'no', 'recipient', 'was', 'specified', '.', '.', '.', 'I', 'get', 'a', 'number', 'of', 'questions', 'about', 'this', 'corpus', 'each', 'week', ',', 'which', 'I', 'am', 'unable', 'to', 'answer', ',', 'mostly', 'because', 'they', 'deal', 'with', 'preparation', 'issues', 'and', 'such', 'that', 'I', 'just', \"don't\", 'know', 'about', '.', 'If', 'you', 'ask', 'me', 'a', 'question', 'and', 'I', \"don't\", 'answer', ',', 'please', \"'\", \"don't\", ',', \"don't\", '.', 'mindme', \"'\", 'feel', 'slighted', '.', '']\n"
     ]
    }
   ],
   "source": [
    "name = 'txt3'\n",
    "text = get_text(name)\n",
    "tokenizer = NLP(text)\n",
    "tokenizer.tokenize()\n",
    "print(tokenizer.tokens)\n",
    "tokenizer.make_vocabulary(sorted_voc=False)\n",
    "# print(tokenizer.text)\n",
    "#print(tokenizer.rough_tokens)\n",
    "# print(tokenizer.tokens)\n",
    "# print(text)\n",
    "# voc  = tokenizer.vocabulary\n",
    "# freq = tokenizer.word_frequency\n",
    "# print(voc)\n",
    "# print(freq)\n",
    "\n"
   ]
  },
  {
   "cell_type": "markdown",
   "metadata": {},
   "source": [
    "Sentence splitting"
   ]
  },
  {
   "cell_type": "code",
   "execution_count": 2,
   "metadata": {},
   "outputs": [
    {
     "name": "stdout",
     "output_type": "stream",
     "text": [
      "This dataset was collected and prepared by Mr. Dinno the CALO Project (A Cognitive Assistant that Learns and Organizes). \n",
      "It contains data from about 150 users, mostly senior management of Enron, organized into folders. \n",
      "The corpus contains a total of about 0.5M messages. This data was originally made public, and posted to the web, \n",
      "by the Federal Energy Regulatory Commission during its investigation?\n",
      "The email dataset was later purchased by Leslie Kaelbling at MIT, and turned out to have a number of integrity problems.\n",
      " A number of folks at SRI, notably Melinda Gervasio, worked hard to correct these problems, and it is thanks to them (not me)\n",
      "  that the dataset is available. The dataset here does not include attachments, and some messages have been deleted \n",
      "  \"as part of a redaction effort due to requests from affected employees\". Invalid email addresses were converted to \n",
      "  something of the form user@enron.com.,' whenever possible (i.e., recipient is specified in some parse-able format like \n",
      "  \"Doe, John\" or \"Mary K. Smith\") and to no_address@enron.com when no recipient was specified...\n",
      "I get a number of questions about this corpus each week, which I am unable to answer, \n",
      "mostly because they deal with preparation issues and such that I just don't know about. If you ask me a\n",
      " question and I don't answer, please 'don't,don't.mindme  ' feel slighted. \n",
      "\n",
      "\n",
      "\n",
      "['This dataset was collected and prepared by Mr. Dinno the CALO Project (A Cognitive Assistant that Learns and Organizes).']\n",
      "['It contains data from about 150 users, mostly senior management of Enron, organized into folders.']\n",
      "['The corpus contains a total of about 0.5M messages.']\n",
      "['This data was originally made public, and posted to the web, by the Federal Energy Regulatory Commission during its investigation?']\n",
      "['The email dataset was later purchased by Leslie Kaelbling at MIT, and turned out to have a number of integrity problems.']\n",
      "['A number of folks at SRI, notably Melinda Gervasio, worked hard to correct these problems, and it is thanks to them (not me) that the dataset is available.']\n",
      "['The dataset here does not include attachments, and some messages have been deleted \"as part of a redaction effort due to requests from affected employees\".']\n",
      "['Invalid email addresses were converted to something of the form user@enron.com.,\\' whenever possible (i.e., recipient is specified in some parse-able format like \"Doe, John\" or \"Mary K. Smith\") and to no_address@enron.com when no recipient was specified...']\n",
      "[\"I get a number of questions about this corpus each week, which I am unable to answer, mostly because they deal with preparation issues and such that I just don't know about.\"]\n",
      "[\"If you ask me a question and I don't answer, please 'don't,don't.mindme\"]\n",
      "[\"' feel slighted.\"]\n"
     ]
    }
   ],
   "source": [
    "name = 'txt3'\n",
    "text = get_text(name)\n",
    "tokenizer = NLP(text)\n",
    "tokenizer.tokenize_rough()\n",
    "tokenizer.sentence_split()\n",
    "sentences = tokenizer.sentences\n",
    "print(text)\n",
    "for sentence in sentences:\n",
    "    print([sentence])"
   ]
  }
 ],
 "metadata": {
  "kernelspec": {
   "display_name": "Python 3.9.7 ('nlp_p1': venv)",
   "language": "python",
   "name": "python3"
  },
  "language_info": {
   "codemirror_mode": {
    "name": "ipython",
    "version": 3
   },
   "file_extension": ".py",
   "mimetype": "text/x-python",
   "name": "python",
   "nbconvert_exporter": "python",
   "pygments_lexer": "ipython3",
   "version": "3.9.7"
  },
  "orig_nbformat": 4,
  "vscode": {
   "interpreter": {
    "hash": "e14664053d37e575f017670323f8571077f235bd162d1842d904390d31d3de60"
   }
  }
 },
 "nbformat": 4,
 "nbformat_minor": 2
}
