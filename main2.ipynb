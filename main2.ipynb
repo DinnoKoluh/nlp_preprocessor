{
 "cells": [
  {
   "cell_type": "code",
   "execution_count": 4,
   "metadata": {},
   "outputs": [
    {
     "name": "stdout",
     "output_type": "stream",
     "text": [
      "The autoreload extension is already loaded. To reload it, use:\n",
      "  %reload_ext autoreload\n"
     ]
    }
   ],
   "source": [
    "%load_ext autoreload\n",
    "%autoreload 2\n",
    "from helpers import *\n",
    "from NLP import *\n",
    "from SentenceSplitterML import *\n",
    "from TokenizerML import *\n",
    "from lexicons import *\n",
    "import nltk as nltk\n",
    "from Parser import *\n",
    "from grammar import *\n",
    "import daft\n",
    "import matplotlib.pyplot as plt\n",
    "import networkx as nx"
   ]
  },
  {
   "attachments": {},
   "cell_type": "markdown",
   "metadata": {},
   "source": [
    "Loading and tokenizing sentences"
   ]
  },
  {
   "cell_type": "code",
   "execution_count": 2,
   "metadata": {},
   "outputs": [
    {
     "name": "stdout",
     "output_type": "stream",
     "text": [
      "[('I', 'PRP'), ('bought', 'VBD'), ('a', 'DT'), ('present', 'JJ'), ('for', 'IN'), ('my', 'PRP$'), ('friend', 'NN'), ('yesterday', 'NN')]\n",
      "[('I', 'PRP'), ('enjoy', 'VBP'), ('historical', 'JJ'), ('novels', 'NNS')]\n",
      "[('I', 'PRP'), ('helped', 'VBD'), ('my', 'PRP$'), ('mother', 'NN'), ('with', 'IN'), ('dinner', 'NN'), ('yesterday', 'NN')]\n",
      "[('Epics', 'NNS'), ('tell', 'VBP'), ('about', 'IN'), ('our', 'PRP$'), ('national', 'JJ'), ('culture', 'NN'), ('and', 'CC'), ('history', 'NN')]\n",
      "[('Watermelon', 'NNP'), ('is', 'VBZ'), ('the', 'DT'), ('most', 'RBS'), ('beautiful', 'JJ'), ('fruit', 'NN'), ('of', 'IN'), ('summer', 'NN')]\n",
      "[('Will', 'MD'), ('you', 'PRP'), ('attend', 'VB'), ('the', 'DT'), ('meeting', 'NN'), ('tonight', 'NN')]\n",
      "[('We', 'PRP'), ('watched', 'VBD'), ('the', 'DT'), ('moonlight', 'NN'), ('under', 'IN'), ('this', 'DT'), ('tree', 'NN'), ('every', 'DT'), ('night', 'NN')]\n",
      "[('When', 'WRB'), ('did', 'VBD'), ('you', 'PRP'), ('come', 'VB'), ('here', 'RB'), ('lastly', 'RB')]\n",
      "[('The', 'DT'), ('school', 'NN'), ('was', 'VBD'), ('quite', 'RB'), ('far', 'RB'), ('from', 'IN'), ('our', 'PRP$'), ('village', 'NN')]\n",
      "[('Do', 'NNP'), ('not', 'RB'), ('listen', 'VB'), ('to', 'TO'), ('loud', 'VB'), ('music', 'NN')]\n"
     ]
    }
   ],
   "source": [
    "name = 'p2_data1'\n",
    "text = get_text(name)\n",
    "tokenizer = NLP(text)\n",
    "tokenizer.sentence_split()\n",
    "sentences = tokenizer.sentences\n",
    "for sentence in sentences:\n",
    "    t = NLP(sentence)\n",
    "    t.tokenize()\n",
    "    tokens = t.dirty_tokens\n",
    "    print(nltk.pos_tag(tokens[0:-1]))"
   ]
  },
  {
   "cell_type": "code",
   "execution_count": 3,
   "metadata": {},
   "outputs": [
    {
     "name": "stdout",
     "output_type": "stream",
     "text": [
      "[('I', 'PRP'), ('buys', 'VBP'), ('a', 'DT'), ('gift', 'NN'), ('for', 'IN'), ('my', 'PRP$'), ('friend', 'NN')]\n"
     ]
    }
   ],
   "source": [
    "# nltk.download()\n",
    "text = nltk.tokenize.word_tokenize(\"I buys a gift for my friend\")\n",
    "tag = nltk.pos_tag(text)\n",
    "print(tag)"
   ]
  },
  {
   "cell_type": "code",
   "execution_count": 12,
   "metadata": {},
   "outputs": [
    {
     "name": "stdout",
     "output_type": "stream",
     "text": [
      "[('Get', 'VB'), ('the', 'DT'), ('flight', 'NN'), ('through', 'IN'), ('Huston', 'NNP')]\n",
      "[[], [], [[(0, 0, 1, 'Verb'), (1, 2, 0, 'NP'), 'S'], [(0, 0, 1, 'Verb'), (1, 2, 0, 'NP'), 'VP'], [(0, 0, 1, 'Verb'), (1, 2, 0, 'NP'), 'X3']], [], [[(0, 0, 1, 'Verb'), (1, 4, 0, 'NP'), 'S'], [(0, 0, 1, 'Verb'), (1, 4, 0, 'NP'), 'VP'], [(0, 0, 1, 'Verb'), (1, 4, 0, 'NP'), 'X3'], [(0, 0, 1, 'Verb'), (1, 4, 1, 'NP'), 'S'], [(0, 0, 1, 'Verb'), (1, 4, 1, 'NP'), 'VP'], [(0, 0, 1, 'Verb'), (1, 4, 1, 'NP'), 'X3'], [(0, 2, 1, 'VP'), (3, 4, 0, 'PP'), 'S'], [(0, 2, 1, 'VP'), (3, 4, 0, 'PP'), 'VP'], [(0, 2, 2, 'X3'), (3, 4, 0, 'PP'), 'VP']]]\n",
      "[[], [], [[(1, 1, 1, 'Det'), (2, 2, 3, 'Nominal'), 'NP']], [], [[(1, 1, 1, 'Det'), (2, 4, 1, 'Nominal'), 'NP'], [(1, 2, 0, 'NP'), (3, 4, 0, 'PP'), 'NP']]]\n",
      "[[], [], [], [], [[(2, 2, 2, 'NP'), (3, 4, 0, 'PP'), 'NP'], [(2, 2, 3, 'Nominal'), (3, 4, 0, 'PP'), 'Nominal']]]\n",
      "[[], [], [], [], [[(3, 3, 1, 'Prep'), (4, 4, 1, 'NP'), 'PP']]]\n",
      "[[], [], [], [], []]\n",
      "[S [Verb 'Get'] [NP [Det 'the'] [Nominal [Nominal 'flight'] [PP [Prep 'through'] [NP 'Huston']]]]]\n"
     ]
    },
    {
     "data": {
      "image/svg+xml": [
       "<svg baseProfile=\"full\" height=\"264px\" preserveAspectRatio=\"xMidYMid meet\" style=\"font-family: times, serif; font-weight:normal; font-style: normal; font-size: 16px;\" version=\"1.1\" viewBox=\"0,0,296.0,264.0\" width=\"296px\" xmlns=\"http://www.w3.org/2000/svg\" xmlns:ev=\"http://www.w3.org/2001/xml-events\" xmlns:xlink=\"http://www.w3.org/1999/xlink\"><defs /><svg width=\"100%\" x=\"0\" y=\"0em\"><defs /><text text-anchor=\"middle\" x=\"50%\" y=\"1em\">S</text></svg><svg width=\"16.2162%\" x=\"0%\" y=\"3em\"><defs /><svg width=\"100%\" x=\"0\" y=\"0em\"><defs /><text text-anchor=\"middle\" x=\"50%\" y=\"1em\">Verb</text></svg><svg width=\"100%\" x=\"0%\" y=\"3em\"><defs /><svg width=\"100%\" x=\"0\" y=\"0em\"><defs /><text text-anchor=\"middle\" x=\"50%\" y=\"1em\">Get</text></svg></svg><line stroke=\"black\" x1=\"50%\" x2=\"50%\" y1=\"1.2em\" y2=\"3em\" /></svg><line stroke=\"black\" x1=\"50%\" x2=\"8.10811%\" y1=\"1.2em\" y2=\"3em\" /><svg width=\"83.7838%\" x=\"16.2162%\" y=\"3em\"><defs /><svg width=\"100%\" x=\"0\" y=\"0em\"><defs /><text text-anchor=\"middle\" x=\"50%\" y=\"1em\">NP</text></svg><svg width=\"16.129%\" x=\"0%\" y=\"3em\"><defs /><svg width=\"100%\" x=\"0\" y=\"0em\"><defs /><text text-anchor=\"middle\" x=\"50%\" y=\"1em\">Det</text></svg><svg width=\"100%\" x=\"0%\" y=\"3em\"><defs /><svg width=\"100%\" x=\"0\" y=\"0em\"><defs /><text text-anchor=\"middle\" x=\"50%\" y=\"1em\">the</text></svg></svg><line stroke=\"black\" x1=\"50%\" x2=\"50%\" y1=\"1.2em\" y2=\"3em\" /></svg><line stroke=\"black\" x1=\"50%\" x2=\"8.06452%\" y1=\"1.2em\" y2=\"3em\" /><svg width=\"83.871%\" x=\"16.129%\" y=\"3em\"><defs /><svg width=\"100%\" x=\"0\" y=\"0em\"><defs /><text text-anchor=\"middle\" x=\"50%\" y=\"1em\">Nominal</text></svg><svg width=\"34.6154%\" x=\"0%\" y=\"3em\"><defs /><svg width=\"100%\" x=\"0\" y=\"0em\"><defs /><text text-anchor=\"middle\" x=\"50%\" y=\"1em\">Nominal</text></svg><svg width=\"100%\" x=\"0%\" y=\"3em\"><defs /><svg width=\"100%\" x=\"0\" y=\"0em\"><defs /><text text-anchor=\"middle\" x=\"50%\" y=\"1em\">flight</text></svg></svg><line stroke=\"black\" x1=\"50%\" x2=\"50%\" y1=\"1.2em\" y2=\"3em\" /></svg><line stroke=\"black\" x1=\"50%\" x2=\"17.3077%\" y1=\"1.2em\" y2=\"3em\" /><svg width=\"65.3846%\" x=\"34.6154%\" y=\"3em\"><defs /><svg width=\"100%\" x=\"0\" y=\"0em\"><defs /><text text-anchor=\"middle\" x=\"50%\" y=\"1em\">PP</text></svg><svg width=\"52.9412%\" x=\"0%\" y=\"3em\"><defs /><svg width=\"100%\" x=\"0\" y=\"0em\"><defs /><text text-anchor=\"middle\" x=\"50%\" y=\"1em\">Prep</text></svg><svg width=\"100%\" x=\"0%\" y=\"3em\"><defs /><svg width=\"100%\" x=\"0\" y=\"0em\"><defs /><text text-anchor=\"middle\" x=\"50%\" y=\"1em\">through</text></svg></svg><line stroke=\"black\" x1=\"50%\" x2=\"50%\" y1=\"1.2em\" y2=\"3em\" /></svg><line stroke=\"black\" x1=\"50%\" x2=\"26.4706%\" y1=\"1.2em\" y2=\"3em\" /><svg width=\"47.0588%\" x=\"52.9412%\" y=\"3em\"><defs /><svg width=\"100%\" x=\"0\" y=\"0em\"><defs /><text text-anchor=\"middle\" x=\"50%\" y=\"1em\">NP</text></svg><svg width=\"100%\" x=\"0%\" y=\"3em\"><defs /><svg width=\"100%\" x=\"0\" y=\"0em\"><defs /><text text-anchor=\"middle\" x=\"50%\" y=\"1em\">Huston</text></svg></svg><line stroke=\"black\" x1=\"50%\" x2=\"50%\" y1=\"1.2em\" y2=\"3em\" /></svg><line stroke=\"black\" x1=\"50%\" x2=\"76.4706%\" y1=\"1.2em\" y2=\"3em\" /></svg><line stroke=\"black\" x1=\"50%\" x2=\"67.3077%\" y1=\"1.2em\" y2=\"3em\" /></svg><line stroke=\"black\" x1=\"50%\" x2=\"58.0645%\" y1=\"1.2em\" y2=\"3em\" /></svg><line stroke=\"black\" x1=\"50%\" x2=\"58.1081%\" y1=\"1.2em\" y2=\"3em\" /></svg>"
      ],
      "text/plain": [
       "Tree('S', [Tree('Verb', ['Get']), Tree('NP', [Tree('Det', ['the']), Tree('Nominal', [Tree('Nominal', ['flight']), Tree('PP', [Tree('Prep', ['through']), Tree('NP', ['Huston'])])])])])"
      ]
     },
     "metadata": {},
     "output_type": "display_data"
    },
    {
     "name": "stdout",
     "output_type": "stream",
     "text": [
      "[S [Verb 'Get'] [NP [NP [Det 'the'] [Nominal 'flight']] [PP [Prep 'through'] [NP 'Huston']]]]\n"
     ]
    },
    {
     "data": {
      "image/svg+xml": [
       "<svg baseProfile=\"full\" height=\"216px\" preserveAspectRatio=\"xMidYMid meet\" style=\"font-family: times, serif; font-weight:normal; font-style: normal; font-size: 16px;\" version=\"1.1\" viewBox=\"0,0,296.0,216.0\" width=\"296px\" xmlns=\"http://www.w3.org/2000/svg\" xmlns:ev=\"http://www.w3.org/2001/xml-events\" xmlns:xlink=\"http://www.w3.org/1999/xlink\"><defs /><svg width=\"100%\" x=\"0\" y=\"0em\"><defs /><text text-anchor=\"middle\" x=\"50%\" y=\"1em\">S</text></svg><svg width=\"16.2162%\" x=\"0%\" y=\"3em\"><defs /><svg width=\"100%\" x=\"0\" y=\"0em\"><defs /><text text-anchor=\"middle\" x=\"50%\" y=\"1em\">Verb</text></svg><svg width=\"100%\" x=\"0%\" y=\"3em\"><defs /><svg width=\"100%\" x=\"0\" y=\"0em\"><defs /><text text-anchor=\"middle\" x=\"50%\" y=\"1em\">Get</text></svg></svg><line stroke=\"black\" x1=\"50%\" x2=\"50%\" y1=\"1.2em\" y2=\"3em\" /></svg><line stroke=\"black\" x1=\"50%\" x2=\"8.10811%\" y1=\"1.2em\" y2=\"3em\" /><svg width=\"83.7838%\" x=\"16.2162%\" y=\"3em\"><defs /><svg width=\"100%\" x=\"0\" y=\"0em\"><defs /><text text-anchor=\"middle\" x=\"50%\" y=\"1em\">NP</text></svg><svg width=\"45.1613%\" x=\"0%\" y=\"3em\"><defs /><svg width=\"100%\" x=\"0\" y=\"0em\"><defs /><text text-anchor=\"middle\" x=\"50%\" y=\"1em\">NP</text></svg><svg width=\"35.7143%\" x=\"0%\" y=\"3em\"><defs /><svg width=\"100%\" x=\"0\" y=\"0em\"><defs /><text text-anchor=\"middle\" x=\"50%\" y=\"1em\">Det</text></svg><svg width=\"100%\" x=\"0%\" y=\"3em\"><defs /><svg width=\"100%\" x=\"0\" y=\"0em\"><defs /><text text-anchor=\"middle\" x=\"50%\" y=\"1em\">the</text></svg></svg><line stroke=\"black\" x1=\"50%\" x2=\"50%\" y1=\"1.2em\" y2=\"3em\" /></svg><line stroke=\"black\" x1=\"50%\" x2=\"17.8571%\" y1=\"1.2em\" y2=\"3em\" /><svg width=\"64.2857%\" x=\"35.7143%\" y=\"3em\"><defs /><svg width=\"100%\" x=\"0\" y=\"0em\"><defs /><text text-anchor=\"middle\" x=\"50%\" y=\"1em\">Nominal</text></svg><svg width=\"100%\" x=\"0%\" y=\"3em\"><defs /><svg width=\"100%\" x=\"0\" y=\"0em\"><defs /><text text-anchor=\"middle\" x=\"50%\" y=\"1em\">flight</text></svg></svg><line stroke=\"black\" x1=\"50%\" x2=\"50%\" y1=\"1.2em\" y2=\"3em\" /></svg><line stroke=\"black\" x1=\"50%\" x2=\"67.8571%\" y1=\"1.2em\" y2=\"3em\" /></svg><line stroke=\"black\" x1=\"50%\" x2=\"22.5806%\" y1=\"1.2em\" y2=\"3em\" /><svg width=\"54.8387%\" x=\"45.1613%\" y=\"3em\"><defs /><svg width=\"100%\" x=\"0\" y=\"0em\"><defs /><text text-anchor=\"middle\" x=\"50%\" y=\"1em\">PP</text></svg><svg width=\"52.9412%\" x=\"0%\" y=\"3em\"><defs /><svg width=\"100%\" x=\"0\" y=\"0em\"><defs /><text text-anchor=\"middle\" x=\"50%\" y=\"1em\">Prep</text></svg><svg width=\"100%\" x=\"0%\" y=\"3em\"><defs /><svg width=\"100%\" x=\"0\" y=\"0em\"><defs /><text text-anchor=\"middle\" x=\"50%\" y=\"1em\">through</text></svg></svg><line stroke=\"black\" x1=\"50%\" x2=\"50%\" y1=\"1.2em\" y2=\"3em\" /></svg><line stroke=\"black\" x1=\"50%\" x2=\"26.4706%\" y1=\"1.2em\" y2=\"3em\" /><svg width=\"47.0588%\" x=\"52.9412%\" y=\"3em\"><defs /><svg width=\"100%\" x=\"0\" y=\"0em\"><defs /><text text-anchor=\"middle\" x=\"50%\" y=\"1em\">NP</text></svg><svg width=\"100%\" x=\"0%\" y=\"3em\"><defs /><svg width=\"100%\" x=\"0\" y=\"0em\"><defs /><text text-anchor=\"middle\" x=\"50%\" y=\"1em\">Huston</text></svg></svg><line stroke=\"black\" x1=\"50%\" x2=\"50%\" y1=\"1.2em\" y2=\"3em\" /></svg><line stroke=\"black\" x1=\"50%\" x2=\"76.4706%\" y1=\"1.2em\" y2=\"3em\" /></svg><line stroke=\"black\" x1=\"50%\" x2=\"72.5806%\" y1=\"1.2em\" y2=\"3em\" /></svg><line stroke=\"black\" x1=\"50%\" x2=\"58.1081%\" y1=\"1.2em\" y2=\"3em\" /></svg>"
      ],
      "text/plain": [
       "Tree('S', [Tree('Verb', ['Get']), Tree('NP', [Tree('NP', [Tree('Det', ['the']), Tree('Nominal', ['flight'])]), Tree('PP', [Tree('Prep', ['through']), Tree('NP', ['Huston'])])])])"
      ]
     },
     "metadata": {},
     "output_type": "display_data"
    },
    {
     "name": "stdout",
     "output_type": "stream",
     "text": [
      "[S [VP [Verb 'Get'] [NP [Det 'the'] [Nominal 'flight']]] [PP [Prep 'through'] [NP 'Huston']]]\n"
     ]
    },
    {
     "data": {
      "image/svg+xml": [
       "<svg baseProfile=\"full\" height=\"216px\" preserveAspectRatio=\"xMidYMid meet\" style=\"font-family: times, serif; font-weight:normal; font-style: normal; font-size: 16px;\" version=\"1.1\" viewBox=\"0,0,296.0,216.0\" width=\"296px\" xmlns=\"http://www.w3.org/2000/svg\" xmlns:ev=\"http://www.w3.org/2001/xml-events\" xmlns:xlink=\"http://www.w3.org/1999/xlink\"><defs /><svg width=\"100%\" x=\"0\" y=\"0em\"><defs /><text text-anchor=\"middle\" x=\"50%\" y=\"1em\">S</text></svg><svg width=\"54.0541%\" x=\"0%\" y=\"3em\"><defs /><svg width=\"100%\" x=\"0\" y=\"0em\"><defs /><text text-anchor=\"middle\" x=\"50%\" y=\"1em\">VP</text></svg><svg width=\"30%\" x=\"0%\" y=\"3em\"><defs /><svg width=\"100%\" x=\"0\" y=\"0em\"><defs /><text text-anchor=\"middle\" x=\"50%\" y=\"1em\">Verb</text></svg><svg width=\"100%\" x=\"0%\" y=\"3em\"><defs /><svg width=\"100%\" x=\"0\" y=\"0em\"><defs /><text text-anchor=\"middle\" x=\"50%\" y=\"1em\">Get</text></svg></svg><line stroke=\"black\" x1=\"50%\" x2=\"50%\" y1=\"1.2em\" y2=\"3em\" /></svg><line stroke=\"black\" x1=\"50%\" x2=\"15%\" y1=\"1.2em\" y2=\"3em\" /><svg width=\"70%\" x=\"30%\" y=\"3em\"><defs /><svg width=\"100%\" x=\"0\" y=\"0em\"><defs /><text text-anchor=\"middle\" x=\"50%\" y=\"1em\">NP</text></svg><svg width=\"35.7143%\" x=\"0%\" y=\"3em\"><defs /><svg width=\"100%\" x=\"0\" y=\"0em\"><defs /><text text-anchor=\"middle\" x=\"50%\" y=\"1em\">Det</text></svg><svg width=\"100%\" x=\"0%\" y=\"3em\"><defs /><svg width=\"100%\" x=\"0\" y=\"0em\"><defs /><text text-anchor=\"middle\" x=\"50%\" y=\"1em\">the</text></svg></svg><line stroke=\"black\" x1=\"50%\" x2=\"50%\" y1=\"1.2em\" y2=\"3em\" /></svg><line stroke=\"black\" x1=\"50%\" x2=\"17.8571%\" y1=\"1.2em\" y2=\"3em\" /><svg width=\"64.2857%\" x=\"35.7143%\" y=\"3em\"><defs /><svg width=\"100%\" x=\"0\" y=\"0em\"><defs /><text text-anchor=\"middle\" x=\"50%\" y=\"1em\">Nominal</text></svg><svg width=\"100%\" x=\"0%\" y=\"3em\"><defs /><svg width=\"100%\" x=\"0\" y=\"0em\"><defs /><text text-anchor=\"middle\" x=\"50%\" y=\"1em\">flight</text></svg></svg><line stroke=\"black\" x1=\"50%\" x2=\"50%\" y1=\"1.2em\" y2=\"3em\" /></svg><line stroke=\"black\" x1=\"50%\" x2=\"67.8571%\" y1=\"1.2em\" y2=\"3em\" /></svg><line stroke=\"black\" x1=\"50%\" x2=\"65%\" y1=\"1.2em\" y2=\"3em\" /></svg><line stroke=\"black\" x1=\"50%\" x2=\"27.027%\" y1=\"1.2em\" y2=\"3em\" /><svg width=\"45.9459%\" x=\"54.0541%\" y=\"3em\"><defs /><svg width=\"100%\" x=\"0\" y=\"0em\"><defs /><text text-anchor=\"middle\" x=\"50%\" y=\"1em\">PP</text></svg><svg width=\"52.9412%\" x=\"0%\" y=\"3em\"><defs /><svg width=\"100%\" x=\"0\" y=\"0em\"><defs /><text text-anchor=\"middle\" x=\"50%\" y=\"1em\">Prep</text></svg><svg width=\"100%\" x=\"0%\" y=\"3em\"><defs /><svg width=\"100%\" x=\"0\" y=\"0em\"><defs /><text text-anchor=\"middle\" x=\"50%\" y=\"1em\">through</text></svg></svg><line stroke=\"black\" x1=\"50%\" x2=\"50%\" y1=\"1.2em\" y2=\"3em\" /></svg><line stroke=\"black\" x1=\"50%\" x2=\"26.4706%\" y1=\"1.2em\" y2=\"3em\" /><svg width=\"47.0588%\" x=\"52.9412%\" y=\"3em\"><defs /><svg width=\"100%\" x=\"0\" y=\"0em\"><defs /><text text-anchor=\"middle\" x=\"50%\" y=\"1em\">NP</text></svg><svg width=\"100%\" x=\"0%\" y=\"3em\"><defs /><svg width=\"100%\" x=\"0\" y=\"0em\"><defs /><text text-anchor=\"middle\" x=\"50%\" y=\"1em\">Huston</text></svg></svg><line stroke=\"black\" x1=\"50%\" x2=\"50%\" y1=\"1.2em\" y2=\"3em\" /></svg><line stroke=\"black\" x1=\"50%\" x2=\"76.4706%\" y1=\"1.2em\" y2=\"3em\" /></svg><line stroke=\"black\" x1=\"50%\" x2=\"77.027%\" y1=\"1.2em\" y2=\"3em\" /></svg>"
      ],
      "text/plain": [
       "Tree('S', [Tree('VP', [Tree('Verb', ['Get']), Tree('NP', [Tree('Det', ['the']), Tree('Nominal', ['flight'])])]), Tree('PP', [Tree('Prep', ['through']), Tree('NP', ['Huston'])])])"
      ]
     },
     "metadata": {},
     "output_type": "display_data"
    }
   ],
   "source": [
    "text = \"I bought a red gift for my friend yesterday\"\n",
    "text = \"Get the flight through Huston\"\n",
    "# text = \"The flight includes a meal\"\n",
    "# text = \"I shot an elephant in my pajamas\"\n",
    "# text = \"You are the fast car mechanic\"\n",
    "# text = \"Workers dumped sacks into a bin\"\n",
    "# text = \"Fishermen caught tons of those herrings\"\n",
    "# text = \"Will you attend the last meeting tomorrow\"\n",
    "# text = \"I enjoy historical novels\"\n",
    "# text = \"Watermelon is the beautiful fruit of summer\"\n",
    "# text = \"We watched the moonlight under this tree\"\n",
    "# text = \"Mary loves herself\"\n",
    "# text = \"What airline goes to Texas\"\n",
    "# text = \"Epics tell about our national culture and history\"\n",
    "\n",
    "p = Parser(text)\n",
    "print(p.parsed_text)\n",
    "table, link_table = p.parse()\n",
    "p.save_table(\"data/parse_table.txt\")\n",
    "for tab in link_table:\n",
    "    print(tab)\n",
    "# print(p.grammar_rules) # full grammar with CNF\n",
    "p.make_tree()\n"
   ]
  }
 ],
 "metadata": {
  "kernelspec": {
   "display_name": "nlp_p1",
   "language": "python",
   "name": "python3"
  },
  "language_info": {
   "codemirror_mode": {
    "name": "ipython",
    "version": 3
   },
   "file_extension": ".py",
   "mimetype": "text/x-python",
   "name": "python",
   "nbconvert_exporter": "python",
   "pygments_lexer": "ipython3",
   "version": "3.11.3"
  },
  "orig_nbformat": 4,
  "vscode": {
   "interpreter": {
    "hash": "e14664053d37e575f017670323f8571077f235bd162d1842d904390d31d3de60"
   }
  }
 },
 "nbformat": 4,
 "nbformat_minor": 2
}
